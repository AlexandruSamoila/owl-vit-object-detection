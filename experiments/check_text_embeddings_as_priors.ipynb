{
 "cells": [
  {
   "attachments": {},
   "cell_type": "markdown",
   "metadata": {},
   "source": [
    "Maybe instead of a traditional MLP classifier a contrastive classifier with text embeddings of label classes as priors would work well?\n",
    "Let's see how the text embeddings for 1000 imagenet classes. We'll collect the embeddings then reduce the dimensions and plot them in 3D space. Hopefully, each embedding will land somewhere distinct and similar classes will embed close to each other.\n",
    "\n",
    "**Result:** If you zoom into a section of the cluster and hover over some data, it's pretty clear that the text embeddings are logical - similar objects produce similar embeddings and therefore end up in similar locations in space."
   ]
  },
  {
   "cell_type": "code",
   "execution_count": null,
   "metadata": {},
   "outputs": [],
   "source": [
    "import requests\n",
    "from PIL import Image\n",
    "from transformers import AutoProcessor, OwlViTForObjectDetection\n",
    "import notebook_helper \n",
    "import torch \n",
    "import plotly.express as px\n",
    "with open(\"assets/imagenet_classes.txt\") as f:\n",
    "    # Imagenet has a heirarchy of subclasses that's comma separated, main class is first thing before comma\n",
    "    labels = [label.split(\",\")[0] for label in f.read().split(\"\\n\")]\n",
    "\n",
    "processor = AutoProcessor.from_pretrained(\"google/owlvit-base-patch32\")\n",
    "model = OwlViTForObjectDetection.from_pretrained(\"google/owlvit-base-patch32\")\n",
    "\n",
    "url = \"http://images.cocodataset.org/val2017/000000039769.jpg\"\n",
    "image = Image.open(requests.get(url, stream=True).raw)\n",
    "inputs = processor(text=[labels], images=image, return_tensors=\"pt\")\n",
    "with torch.no_grad():\n",
    "    output = model(**inputs).text_embeds.squeeze(0).numpy()\n",
    "\n",
    "reduced = notebook_helper.get_reduced(output, 3)\n",
    "fig = notebook_helper.make_plot_3d(reduced, hover_labels=labels)\n",
    "display(fig)"
   ]
  }
 ],
 "metadata": {
  "kernelspec": {
   "display_name": "owl",
   "language": "python",
   "name": "python3"
  },
  "language_info": {
   "codemirror_mode": {
    "name": "ipython",
    "version": 3
   },
   "file_extension": ".py",
   "mimetype": "text/x-python",
   "name": "python",
   "nbconvert_exporter": "python",
   "pygments_lexer": "ipython3",
   "version": "3.10.11"
  },
  "orig_nbformat": 4
 },
 "nbformat": 4,
 "nbformat_minor": 2
}
